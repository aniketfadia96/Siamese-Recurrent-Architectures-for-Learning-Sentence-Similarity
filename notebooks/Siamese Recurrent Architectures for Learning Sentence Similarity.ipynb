{
 "cells": [
  {
   "cell_type": "markdown",
   "metadata": {
    "colab_type": "text",
    "id": "-8grJ2sHDHrZ"
   },
   "source": [
    "# Import Libraries"
   ]
  },
  {
   "cell_type": "code",
   "execution_count": null,
   "metadata": {
    "colab": {
     "base_uri": "https://localhost:8080/",
     "height": 88
    },
    "colab_type": "code",
    "executionInfo": {
     "elapsed": 3649,
     "status": "ok",
     "timestamp": 1591703545354,
     "user": {
      "displayName": "Aniket Fadia",
      "photoUrl": "",
      "userId": "02858654771955807579"
     },
     "user_tz": -330
    },
    "id": "AMLCg876CrLr",
    "outputId": "4208f02e-6719-426f-f675-6e462be2615c"
   },
   "outputs": [],
   "source": [
    "# Python\n",
    "import sys\n",
    "import os\n",
    "import re\n",
    "import numpy as np\n",
    "import pandas as pd\n",
    "from time import time\n",
    "from sys import getsizeof\n",
    "import itertools\n",
    "\n",
    "# Visualization\n",
    "import matplotlib.pyplot as plt\n",
    "import seaborn as sns\n",
    "\n",
    "# TQDM\n",
    "from tqdm import tqdm_notebook\n",
    "from tqdm import tqdm\n",
    "\n",
    "# sklearn\n",
    "import sklearn\n",
    "from sklearn.model_selection import StratifiedKFold\n",
    "from sklearn.metrics import accuracy_score, f1_score, confusion_matrix\n",
    "from sklearn.model_selection import train_test_split\n",
    "\n",
    "# Keras\n",
    "import tensorflow as tf\n",
    "import keras\n",
    "import keras.backend as K\n",
    "from keras.models import Model\n",
    "\n",
    "# Keras Pre-processing\n",
    "from keras.preprocessing.text import Tokenizer\n",
    "from keras.preprocessing.sequence import pad_sequences\n",
    "\n",
    "# Keras Layers\n",
    "from keras.layers import Input, Dense, Embedding, LSTM, Lambda, Dropout\n",
    "\n",
    "# Keras Optimizer\n",
    "from keras.optimizers import Adadelta\n",
    "from keras.constraints import max_norm\n",
    "\n",
    "# Keras Model Saving\n",
    "from keras.models import load_model\n",
    "from keras.callbacks import ModelCheckpoint, EarlyStopping"
   ]
  },
  {
   "cell_type": "markdown",
   "metadata": {
    "colab_type": "text",
    "id": "23_Wu1-qFXNE"
   },
   "source": [
    "# Load Data"
   ]
  },
  {
   "cell_type": "code",
   "execution_count": null,
   "metadata": {
    "colab": {
     "base_uri": "https://localhost:8080/",
     "height": 122
    },
    "colab_type": "code",
    "executionInfo": {
     "elapsed": 25377,
     "status": "ok",
     "timestamp": 1591703573625,
     "user": {
      "displayName": "Aniket Fadia",
      "photoUrl": "",
      "userId": "02858654771955807579"
     },
     "user_tz": -330
    },
    "id": "kmKr7e5CGLAI",
    "outputId": "acd1c723-747c-4cab-ee67-ea2e931a78ee"
   },
   "outputs": [],
   "source": [
    "# from google.colab import drive\n",
    "# drive.mount('/content/drive')"
   ]
  },
  {
   "cell_type": "code",
   "execution_count": null,
   "metadata": {
    "colab": {},
    "colab_type": "code",
    "id": "pekpxXmACrMa"
   },
   "outputs": [],
   "source": [
    "# Add path to your project directory\n",
    "PROJ_DIR = ''"
   ]
  },
  {
   "cell_type": "code",
   "execution_count": null,
   "metadata": {
    "colab": {},
    "colab_type": "code",
    "id": "AvSkxdkUG_q1"
   },
   "outputs": [],
   "source": [
    "# Add path to your data directory\n",
    "DATA_DIR = CURR_DIR + 'data/'"
   ]
  },
  {
   "cell_type": "markdown",
   "metadata": {
    "colab_type": "text",
    "id": "4W-_HIzGJB6b"
   },
   "source": [
    "## Load Train Data"
   ]
  },
  {
   "cell_type": "code",
   "execution_count": null,
   "metadata": {
    "colab": {},
    "colab_type": "code",
    "id": "gPRhSTdsCrNG"
   },
   "outputs": [],
   "source": [
    "train_data = pd.read_csv(DATA_DIR + 'train.csv')"
   ]
  },
  {
   "cell_type": "code",
   "execution_count": null,
   "metadata": {
    "colab": {
     "base_uri": "https://localhost:8080/",
     "height": 204
    },
    "colab_type": "code",
    "executionInfo": {
     "elapsed": 3074,
     "status": "ok",
     "timestamp": 1591703589160,
     "user": {
      "displayName": "Aniket Fadia",
      "photoUrl": "",
      "userId": "02858654771955807579"
     },
     "user_tz": -330
    },
    "id": "FKC1Ms73CrNT",
    "outputId": "cbc89c91-7fad-47dc-814f-b51d027c3b97"
   },
   "outputs": [],
   "source": [
    "train_data.head()"
   ]
  },
  {
   "cell_type": "code",
   "execution_count": null,
   "metadata": {
    "colab": {
     "base_uri": "https://localhost:8080/",
     "height": 34
    },
    "colab_type": "code",
    "executionInfo": {
     "elapsed": 1427,
     "status": "ok",
     "timestamp": 1591703589165,
     "user": {
      "displayName": "Aniket Fadia",
      "photoUrl": "",
      "userId": "02858654771955807579"
     },
     "user_tz": -330
    },
    "id": "JwJ50GmiJSQI",
    "outputId": "6181c4c1-a294-4a5d-a99b-fb98e4a14307"
   },
   "outputs": [],
   "source": [
    "train_data.shape"
   ]
  },
  {
   "cell_type": "code",
   "execution_count": null,
   "metadata": {
    "colab": {
     "base_uri": "https://localhost:8080/",
     "height": 68
    },
    "colab_type": "code",
    "executionInfo": {
     "elapsed": 1210,
     "status": "ok",
     "timestamp": 1591703589842,
     "user": {
      "displayName": "Aniket Fadia",
      "photoUrl": "",
      "userId": "02858654771955807579"
     },
     "user_tz": -330
    },
    "id": "bx4-5gJMJWb2",
    "outputId": "e5721a6c-e693-4387-9577-85d1e8a959f5"
   },
   "outputs": [],
   "source": [
    "# Label Distribution\n",
    "train_data['is_duplicate'].value_counts()"
   ]
  },
  {
   "cell_type": "code",
   "execution_count": null,
   "metadata": {
    "colab": {},
    "colab_type": "code",
    "id": "ynHeTyItJY0d"
   },
   "outputs": [],
   "source": [
    "X = train_data[['question1', 'question2']]\n",
    "Y = train_data['is_duplicate']"
   ]
  },
  {
   "cell_type": "markdown",
   "metadata": {
    "colab_type": "text",
    "id": "DoJjVlFjLA7f"
   },
   "source": [
    "## Load Test Data"
   ]
  },
  {
   "cell_type": "code",
   "execution_count": null,
   "metadata": {
    "colab": {},
    "colab_type": "code",
    "id": "KOWCvgQOK2y4"
   },
   "outputs": [],
   "source": [
    "test_data = pd.read_csv(DATA_DIR + 'test.csv')"
   ]
  },
  {
   "cell_type": "code",
   "execution_count": null,
   "metadata": {
    "colab": {},
    "colab_type": "code",
    "id": "ugkCMzIVLK0C"
   },
   "outputs": [],
   "source": [
    "test_data.shape"
   ]
  },
  {
   "cell_type": "code",
   "execution_count": null,
   "metadata": {
    "colab": {},
    "colab_type": "code",
    "id": "t5DXnGNwK54a"
   },
   "outputs": [],
   "source": [
    "test_data.head()"
   ]
  },
  {
   "cell_type": "markdown",
   "metadata": {
    "colab_type": "text",
    "id": "sqBCgEZDLQwv"
   },
   "source": [
    "# Preprocess "
   ]
  },
  {
   "cell_type": "markdown",
   "metadata": {
    "colab_type": "text",
    "id": "vaYRYq3dLUBn"
   },
   "source": [
    "## Max Sequence Length"
   ]
  },
  {
   "cell_type": "code",
   "execution_count": null,
   "metadata": {
    "colab": {},
    "colab_type": "code",
    "id": "bzTrWCThK6Nl"
   },
   "outputs": [],
   "source": [
    "def find_max_seq_len(corpus):\n",
    "    corpus_len = []\n",
    "    for question in corpus:\n",
    "        question_list = (str(question)).split()\n",
    "        corpus_len.append(len(question_list))\n",
    "  \n",
    "  return max(corpus_len)"
   ]
  },
  {
   "cell_type": "code",
   "execution_count": null,
   "metadata": {
    "colab": {
     "base_uri": "https://localhost:8080/",
     "height": 34
    },
    "colab_type": "code",
    "executionInfo": {
     "elapsed": 1305,
     "status": "ok",
     "timestamp": 1591703633031,
     "user": {
      "displayName": "Aniket Fadia",
      "photoUrl": "",
      "userId": "02858654771955807579"
     },
     "user_tz": -330
    },
    "id": "aCD4VetZK7E8",
    "outputId": "654e7b79-40e1-4fc4-930a-5f957799ccb1"
   },
   "outputs": [],
   "source": [
    "'''\n",
    "MAX_SEQUENCE_LENGTH = max(find_max_seq_len(list(train_data['question1'])),\n",
    "                          find_max_seq_len(list(train_data['question2'])),\n",
    "                          find_max_seq_len(list(test_data['question1'])),\n",
    "                          find_max_seq_len(list(test_data['question2'])))\n",
    "'''\n",
    "MAX_SEQUENCE_LENGTH = 250\n",
    "print(MAX_SEQUENCE_LENGTH)"
   ]
  },
  {
   "cell_type": "markdown",
   "metadata": {
    "colab_type": "text",
    "id": "HnjjodD5NyFG"
   },
   "source": [
    "## Tokenizer"
   ]
  },
  {
   "cell_type": "code",
   "execution_count": null,
   "metadata": {
    "colab": {
     "base_uri": "https://localhost:8080/",
     "height": 34
    },
    "colab_type": "code",
    "executionInfo": {
     "elapsed": 2939,
     "status": "ok",
     "timestamp": 1591703643051,
     "user": {
      "displayName": "Aniket Fadia",
      "photoUrl": "",
      "userId": "02858654771955807579"
     },
     "user_tz": -330
    },
    "id": "5aLcW4MPK7y7",
    "outputId": "ef44a4ff-efd5-4d3f-a758-0d1f2dc52965"
   },
   "outputs": [],
   "source": [
    "# List of train_data question1\n",
    "train_question1 = list(train_data['question1'])\n",
    "train_question1 = [str(ques) for ques in train_question1]\n",
    "\n",
    "# List of train_data question2\n",
    "train_question2 = list(train_data['question2'])\n",
    "train_question2 = [str(ques) for ques in train_question2]\n",
    "\n",
    "# List of all the unique question\n",
    "train_corpus = set(train_question1 + train_question2)\n",
    "train_corpus = list(train_corpus)\n",
    "print(\"Total unique question in the train data: {}\".format(len(train_corpus)))"
   ]
  },
  {
   "cell_type": "code",
   "execution_count": null,
   "metadata": {
    "colab": {},
    "colab_type": "code",
    "id": "76ZXaW5EK7_q"
   },
   "outputs": [],
   "source": [
    "# Keep all the punctuations  -- Since, GloVe has embeddings for them\n",
    "tokenizer = Tokenizer(filters='')"
   ]
  },
  {
   "cell_type": "code",
   "execution_count": null,
   "metadata": {
    "colab": {},
    "colab_type": "code",
    "id": "RARjggzqK8LS"
   },
   "outputs": [],
   "source": [
    "# Add space before punctuations\n",
    "def add_space_punctuations(text):\n",
    "    to_tokenize = '!\\\"#$%&\\'()*+, -./:;<=>?@[\\]^_`{|}~'\n",
    "    return re.sub(r'(['+to_tokenize+'])', r' \\1 ', text)"
   ]
  },
  {
   "cell_type": "code",
   "execution_count": null,
   "metadata": {
    "colab": {},
    "colab_type": "code",
    "id": "h5J01nbXK8WZ"
   },
   "outputs": [],
   "source": [
    "# Add Space before punctuations for entire train corpus\n",
    "for i in range(len(train_corpus)):\n",
    "    train_corpus[i] = add_space_punctuations(train_corpus[i])"
   ]
  },
  {
   "cell_type": "code",
   "execution_count": null,
   "metadata": {
    "colab": {
     "base_uri": "https://localhost:8080/",
     "height": 122
    },
    "colab_type": "code",
    "executionInfo": {
     "elapsed": 9716,
     "status": "ok",
     "timestamp": 1591703658320,
     "user": {
      "displayName": "Aniket Fadia",
      "photoUrl": "",
      "userId": "02858654771955807579"
     },
     "user_tz": -330
    },
    "id": "ZxAS7sJkK4SO",
    "outputId": "ad6f5237-37f4-487b-9c80-bcbefc366a64"
   },
   "outputs": [],
   "source": [
    "train_corpus[:5]"
   ]
  },
  {
   "cell_type": "code",
   "execution_count": null,
   "metadata": {
    "colab": {
     "base_uri": "https://localhost:8080/",
     "height": 34
    },
    "colab_type": "code",
    "executionInfo": {
     "elapsed": 10729,
     "status": "ok",
     "timestamp": 1591703669070,
     "user": {
      "displayName": "Aniket Fadia",
      "photoUrl": "",
      "userId": "02858654771955807579"
     },
     "user_tz": -330
    },
    "id": "vm9YbrnnQnxa",
    "outputId": "f2e5f026-78ac-45c7-cc03-c5855eb6873c"
   },
   "outputs": [],
   "source": [
    "# Fit the tokenizer on entire train corpus\n",
    "tokenizer.fit_on_texts(train_corpus)\n",
    "word_index = tokenizer.word_index\n",
    "print(\"Found %s unique tokens: \" % len(word_index))"
   ]
  },
  {
   "cell_type": "code",
   "execution_count": null,
   "metadata": {
    "colab": {},
    "colab_type": "code",
    "id": "nRl0NOaVQ6qQ"
   },
   "outputs": [],
   "source": [
    "# Add space before punctuations for train data\n",
    "X['question1'] = X['question1'].astype(str)\n",
    "X['question1'] = X['question1'].apply(add_space_punctuations)\n",
    "\n",
    "X['question2'] = X['question2'].astype(str)\n",
    "X['question2'] = X['question2'].apply(add_space_punctuations)"
   ]
  },
  {
   "cell_type": "code",
   "execution_count": null,
   "metadata": {
    "colab": {
     "base_uri": "https://localhost:8080/",
     "height": 204
    },
    "colab_type": "code",
    "executionInfo": {
     "elapsed": 22767,
     "status": "ok",
     "timestamp": 1591703681191,
     "user": {
      "displayName": "Aniket Fadia",
      "photoUrl": "",
      "userId": "02858654771955807579"
     },
     "user_tz": -330
    },
    "id": "K-dLQ8VDRSEG",
    "outputId": "0aa81aed-4d21-443e-db03-df943aadacc3"
   },
   "outputs": [],
   "source": [
    "X.head()"
   ]
  },
  {
   "cell_type": "code",
   "execution_count": null,
   "metadata": {
    "colab": {},
    "colab_type": "code",
    "id": "9L7BhTgsVqrz"
   },
   "outputs": [],
   "source": [
    "# Add space before punctuations for train data\n",
    "test_data['question1'] = test_data['question1'].astype(str)\n",
    "test_data['question1'] = test_data['question1'].apply(add_space_punctuations)\n",
    "\n",
    "test_data['question2'] = test_data['question2'].astype(str)\n",
    "test_data['question2'] = test_data['question2'].apply(add_space_punctuations)"
   ]
  },
  {
   "cell_type": "code",
   "execution_count": null,
   "metadata": {
    "colab": {},
    "colab_type": "code",
    "id": "riPcCiwRV9za"
   },
   "outputs": [],
   "source": [
    "test_data.head()"
   ]
  },
  {
   "cell_type": "markdown",
   "metadata": {
    "colab_type": "text",
    "id": "sMfq6nkLWDE3"
   },
   "source": [
    "# Generate Indices"
   ]
  },
  {
   "cell_type": "code",
   "execution_count": null,
   "metadata": {
    "colab": {},
    "colab_type": "code",
    "id": "TNLRtbHUWAP9"
   },
   "outputs": [],
   "source": [
    "def generate_indices(question1, question2, max_sequence_len):\n",
    "    # Make sure it is list of strings\n",
    "    question1 = [str(ques) for ques in question1]\n",
    "    question2 = [str(ques) for ques in question2]\n",
    "\n",
    "    sequences1 = tokenizer.texts_to_sequences(question1)\n",
    "    indices1 = pad_sequences(sequences1, maxlen=max_sequence_len)\n",
    "\n",
    "    sequences2 = tokenizer.texts_to_sequences(question2)\n",
    "    indices2 = pad_sequences(sequences2, maxlen=max_sequence_len)\n",
    "\n",
    "    return indices1.tolist(), indices2.tolist()"
   ]
  },
  {
   "cell_type": "markdown",
   "metadata": {
    "colab_type": "text",
    "id": "hiL-V2rMXsN-"
   },
   "source": [
    "## Train Indices"
   ]
  },
  {
   "cell_type": "code",
   "execution_count": null,
   "metadata": {
    "colab": {},
    "colab_type": "code",
    "id": "IsvXQxFSWvgD"
   },
   "outputs": [],
   "source": [
    "train_question1_indices, train_question2_indices = generate_indices(list(X['question1']),\n",
    "                                                                    list(X['question2']),\n",
    "                                                                    MAX_SEQUENCE_LENGTH)"
   ]
  },
  {
   "cell_type": "code",
   "execution_count": null,
   "metadata": {
    "colab": {
     "base_uri": "https://localhost:8080/",
     "height": 241
    },
    "colab_type": "code",
    "executionInfo": {
     "elapsed": 44304,
     "status": "ok",
     "timestamp": 1591703766224,
     "user": {
      "displayName": "Aniket Fadia",
      "photoUrl": "",
      "userId": "02858654771955807579"
     },
     "user_tz": -330
    },
    "id": "pbyxYdbJXwnZ",
    "outputId": "536ad79c-7d69-47b5-fa83-801eba438c52"
   },
   "outputs": [],
   "source": [
    "# Add the indices to the train dataframe\n",
    "\n",
    "# Create columns for indices\n",
    "X['question1_indices'] = [[] for _ in range(len(X))]\n",
    "X['question2_indices'] = [[] for _ in range(len(X))]\n",
    "\n",
    "# Reset index to iterate over the train question's indices\n",
    "X.reset_index(drop=True, inplace=True)\n",
    "\n",
    "for index, row, in X.iterrows():\n",
    "    row['question1_indices'] = train_question1_indices[index]\n",
    "    row['question2_indices'] = train_question2_indices[index]"
   ]
  },
  {
   "cell_type": "code",
   "execution_count": null,
   "metadata": {
    "colab": {
     "base_uri": "https://localhost:8080/",
     "height": 289
    },
    "colab_type": "code",
    "executionInfo": {
     "elapsed": 44285,
     "status": "ok",
     "timestamp": 1591703766229,
     "user": {
      "displayName": "Aniket Fadia",
      "photoUrl": "",
      "userId": "02858654771955807579"
     },
     "user_tz": -330
    },
    "id": "j-2CnNQMZE1v",
    "outputId": "7c8fb758-f0b8-4567-ca0a-b926a1d352d5"
   },
   "outputs": [],
   "source": [
    "X.head()"
   ]
  },
  {
   "cell_type": "markdown",
   "metadata": {
    "colab_type": "text",
    "id": "Som6u19SZK2u"
   },
   "source": [
    "## Test Indices"
   ]
  },
  {
   "cell_type": "code",
   "execution_count": null,
   "metadata": {
    "colab": {},
    "colab_type": "code",
    "id": "nuOTUvYvZJ6H"
   },
   "outputs": [],
   "source": [
    "test_question1_indices, test_question2_indices = generate_indices(list(test_data['question1']),\n",
    "                                                                    list(test_data['question2']),\n",
    "                                                                    MAX_SEQUENCE_LENGTH)"
   ]
  },
  {
   "cell_type": "code",
   "execution_count": null,
   "metadata": {
    "colab": {},
    "colab_type": "code",
    "id": "CPK_fzAhZVHm"
   },
   "outputs": [],
   "source": [
    "# Add the indices to the test dataframe\n",
    "\n",
    "# Create columns for indices\n",
    "test_data['question1_indices'] = [[] for _ in range(len(X))]\n",
    "test_data['question2_indices'] = [[] for _ in range(len(X))]\n",
    "\n",
    "# Reset index to iterate over the test question's indices\n",
    "test_data.reset_index(drop=True, inplace=True)\n",
    "\n",
    "for index, row, in test_data.iterrows():\n",
    "    row['question1_indices'] = test_question1_indices[index]\n",
    "    row['question2_indices'] = test_question2_indices[index]"
   ]
  },
  {
   "cell_type": "markdown",
   "metadata": {
    "colab_type": "text",
    "id": "7XRLYrlhaGe2"
   },
   "source": [
    "## Reverse Map the indices"
   ]
  },
  {
   "cell_type": "code",
   "execution_count": null,
   "metadata": {
    "colab": {},
    "colab_type": "code",
    "id": "uM84_MfxaC4z"
   },
   "outputs": [],
   "source": [
    "# Create a reverse dictionary \n",
    "reverse_word_map = {v : k for k, v in word_index.items()}"
   ]
  },
  {
   "cell_type": "code",
   "execution_count": null,
   "metadata": {
    "colab": {},
    "colab_type": "code",
    "id": "n6RvqAFsaC1Z"
   },
   "outputs": [],
   "source": [
    "def indices_to_text(indices_list):\n",
    "    text = []\n",
    "    for i in indices_list:\n",
    "        if i is not 0:\n",
    "            text.append(reverse_word_map.get(i))\n",
    "    return text"
   ]
  },
  {
   "cell_type": "code",
   "execution_count": null,
   "metadata": {
    "colab": {
     "base_uri": "https://localhost:8080/",
     "height": 88
    },
    "colab_type": "code",
    "executionInfo": {
     "elapsed": 723,
     "status": "ok",
     "timestamp": 1591703782098,
     "user": {
      "displayName": "Aniket Fadia",
      "photoUrl": "",
      "userId": "02858654771955807579"
     },
     "user_tz": -330
    },
    "id": "f_rt5ujxaCyG",
    "outputId": "a1953118-6e9a-482c-d9d7-cdca0dc8b159"
   },
   "outputs": [],
   "source": [
    "print(X['question1'][0])\n",
    "print(X['question1_indices'][0])\n",
    "print(indices_to_text(X['question1_indices'][0]))"
   ]
  },
  {
   "cell_type": "markdown",
   "metadata": {
    "colab_type": "text",
    "id": "w75Moqh5c6z7"
   },
   "source": [
    "# Prepare embedding layer"
   ]
  },
  {
   "cell_type": "markdown",
   "metadata": {
    "colab_type": "text",
    "id": "OFnfUVxRc_ia"
   },
   "source": [
    "## Load the GloVe embedding vector"
   ]
  },
  {
   "cell_type": "code",
   "execution_count": null,
   "metadata": {
    "colab": {
     "base_uri": "https://localhost:8080/",
     "height": 34
    },
    "colab_type": "code",
    "executionInfo": {
     "elapsed": 1037,
     "status": "ok",
     "timestamp": 1591703838536,
     "user": {
      "displayName": "Aniket Fadia",
      "photoUrl": "",
      "userId": "02858654771955807579"
     },
     "user_tz": -330
    },
    "id": "4T5k6b-E8QGZ",
    "outputId": "caa0eea5-c184-4029-aebb-99726f701249"
   },
   "outputs": [],
   "source": [
    "CURR_DIR"
   ]
  },
  {
   "cell_type": "code",
   "execution_count": null,
   "metadata": {
    "colab": {
     "base_uri": "https://localhost:8080/",
     "height": 34
    },
    "colab_type": "code",
    "executionInfo": {
     "elapsed": 43322,
     "status": "ok",
     "timestamp": 1591703975950,
     "user": {
      "displayName": "Aniket Fadia",
      "photoUrl": "",
      "userId": "02858654771955807579"
     },
     "user_tz": -330
    },
    "id": "2fX48ryHciwS",
    "outputId": "4d18b2dd-0813-443f-d4f7-b7580c5942e5"
   },
   "outputs": [],
   "source": [
    "# Add path to your GLoVe Directory\n",
    "GLOVE_DIR = ''\n",
    "\n",
    "glove_embedding_index = {}\n",
    "\n",
    "f = open(os.path.join(GLOVE_DIR, 'glove.6B.300d.txt'))\n",
    "for line in f:\n",
    "    values = line.split()\n",
    "    word = values[0]\n",
    "    coefs = np.asarray(values[1:], dtype='float32')\n",
    "    glove_embedding_index[word] = coefs\n",
    "f.close()\n",
    "\n",
    "print(\"Found %s word vectors\" % len(glove_embedding_index))"
   ]
  },
  {
   "cell_type": "markdown",
   "metadata": {
    "colab_type": "text",
    "id": "zOzV5Mj5eI_0"
   },
   "source": [
    "## Create embedding matrix"
   ]
  },
  {
   "cell_type": "code",
   "execution_count": null,
   "metadata": {
    "colab": {
     "base_uri": "https://localhost:8080/",
     "height": 34
    },
    "colab_type": "code",
    "executionInfo": {
     "elapsed": 1053,
     "status": "ok",
     "timestamp": 1591704023755,
     "user": {
      "displayName": "Aniket Fadia",
      "photoUrl": "",
      "userId": "02858654771955807579"
     },
     "user_tz": -330
    },
    "id": "Oxkymwx8eCr5",
    "outputId": "1b7fe552-6c03-472d-ec07-a86742ff78da"
   },
   "outputs": [],
   "source": [
    "# Vocabulary Size\n",
    "VOCAB_SIZE = len(word_index)\n",
    "print(\"Vocabulary size is: {}\".format(VOCAB_SIZE))"
   ]
  },
  {
   "cell_type": "code",
   "execution_count": null,
   "metadata": {
    "colab": {},
    "colab_type": "code",
    "id": "5hodtlVPeDli"
   },
   "outputs": [],
   "source": [
    "# Randomly initialize the embedding matrix for unknown words\n",
    "embedding_matrix = np.random.rand(VOCAB_SIZE + 1, 300)\n",
    "\n",
    "# Padding will be ignored\n",
    "embedding_matrix[0] = 0 \n",
    "\n",
    "for word, i in word_index.items():\n",
    "    glove_embedding_vector = glove_embedding_index.get(word)\n",
    "    if glove_embedding_vector is not None:\n",
    "        embedding_matrix[i] = glove_embedding_vector"
   ]
  },
  {
   "cell_type": "markdown",
   "metadata": {
    "colab_type": "text",
    "id": "1FSk8Q2pfJbx"
   },
   "source": [
    "# Train-Val Split"
   ]
  },
  {
   "cell_type": "code",
   "execution_count": null,
   "metadata": {
    "colab": {},
    "colab_type": "code",
    "id": "FsJXRh5keEmV"
   },
   "outputs": [],
   "source": [
    "X_train, X_val, Y_train, Y_val = train_test_split(X, Y, test_size=0.1, random_state=42)"
   ]
  },
  {
   "cell_type": "code",
   "execution_count": null,
   "metadata": {
    "colab": {
     "base_uri": "https://localhost:8080/",
     "height": 85
    },
    "colab_type": "code",
    "executionInfo": {
     "elapsed": 928,
     "status": "ok",
     "timestamp": 1591704065986,
     "user": {
      "displayName": "Aniket Fadia",
      "photoUrl": "",
      "userId": "02858654771955807579"
     },
     "user_tz": -330
    },
    "id": "kl9QIqYceE-L",
    "outputId": "6b11990d-d00d-4b7c-90bd-3cf636b60511"
   },
   "outputs": [],
   "source": [
    "print(X_train.shape)\n",
    "print(X_val.shape)\n",
    "\n",
    "print(Y_train.shape)\n",
    "print(Y_val.shape)"
   ]
  },
  {
   "cell_type": "code",
   "execution_count": null,
   "metadata": {
    "colab": {},
    "colab_type": "code",
    "id": "kCBQlhSseFka"
   },
   "outputs": [],
   "source": [
    "# Convert labels to their numpy representation\n",
    "Y_train = Y_train.values\n",
    "Y_val = Y_val.values"
   ]
  },
  {
   "cell_type": "markdown",
   "metadata": {
    "colab_type": "text",
    "id": "EgaWgflxpvmS"
   },
   "source": [
    "# Define Training Model"
   ]
  },
  {
   "cell_type": "code",
   "execution_count": null,
   "metadata": {
    "colab": {},
    "colab_type": "code",
    "id": "m99VJB7QeFqs"
   },
   "outputs": [],
   "source": [
    "def exponent_neg_manhattan_distance(left, right):\n",
    "    return K.exp(-K.sum(K.abs(left-right), axis=1, keepdims=True))\n",
    "\n",
    "def train_MaLSTM_model(embedding_pretrained, VOCAB_SIZE):\n",
    "    # Input Layers\n",
    "    left_input = Input(shape=(MAX_SEQUENCE_LENGTH,))\n",
    "    right_input = Input(shape=(MAX_SEQUENCE_LENGTH,))\n",
    "\n",
    "    # Embedding Layer\n",
    "    embedding_layer = Embedding(input_dim=VOCAB_SIZE+1, output_dim=300, input_length = MAX_SEQUENCE_LENGTH, weights=[embedding_pretrained], trainable=False)\n",
    "\n",
    "    # Embedded version of the inputs\n",
    "    encoded_left = embedding_layer(left_input)\n",
    "    encoded_right = embedding_layer(right_input)\n",
    "\n",
    "    # Since this is a siamese network, both the sides share the same LSTM\n",
    "    shared_lstm = LSTM(n_hidden)\n",
    "\n",
    "    left_output = shared_lstm(encoded_left)\n",
    "    right_output = shared_lstm(encoded_right)\n",
    "\n",
    "    # Calculate the distance as defined by the MaLSTM model\n",
    "    malstm_distance = Lambda(function=lambda x: exponent_neg_manhattan_distance(x[0], x[1]))([left_output, right_output])\n",
    "\n",
    "    # Pack it all up into a model\n",
    "    malstm_model = Model([left_input, right_input], [malstm_distance])\n",
    "\n",
    "    return malstm_model "
   ]
  },
  {
   "cell_type": "markdown",
   "metadata": {
    "colab_type": "text",
    "id": "w3GNlGwpseN-"
   },
   "source": [
    "# Train MaLSTM Model"
   ]
  },
  {
   "cell_type": "markdown",
   "metadata": {
    "colab_type": "text",
    "id": "eIcfxL_duYUf"
   },
   "source": [
    "### Model Hyper-Parameter"
   ]
  },
  {
   "cell_type": "code",
   "execution_count": null,
   "metadata": {
    "colab": {},
    "colab_type": "code",
    "id": "CFZUxDZ5eFf2"
   },
   "outputs": [],
   "source": [
    "n_hidden = 50\n",
    "gradient_clipping_norm = 3\n",
    "batch_size = 64\n",
    "n_epoch = 10"
   ]
  },
  {
   "cell_type": "code",
   "execution_count": null,
   "metadata": {
    "colab": {},
    "colab_type": "code",
    "id": "zEjBFgxZu63k"
   },
   "outputs": [],
   "source": [
    "# Adadelta optimizer with gradient clipping by norm\n",
    "optimizer = Adadelta(clipnorm=gradient_clipping_norm)"
   ]
  },
  {
   "cell_type": "markdown",
   "metadata": {
    "colab_type": "text",
    "id": "2ohWYn5iunkb"
   },
   "source": [
    "### Model Definition"
   ]
  },
  {
   "cell_type": "code",
   "execution_count": null,
   "metadata": {
    "colab": {},
    "colab_type": "code",
    "id": "-OZMCcbDeFbb"
   },
   "outputs": [],
   "source": [
    "malstm_model = train_MaLSTM_model(embedding_matrix, VOCAB_SIZE)"
   ]
  },
  {
   "cell_type": "code",
   "execution_count": null,
   "metadata": {
    "colab": {
     "base_uri": "https://localhost:8080/",
     "height": 374
    },
    "colab_type": "code",
    "executionInfo": {
     "elapsed": 1283,
     "status": "ok",
     "timestamp": 1591704209762,
     "user": {
      "displayName": "Aniket Fadia",
      "photoUrl": "",
      "userId": "02858654771955807579"
     },
     "user_tz": -330
    },
    "id": "miZ2AuPfeFWj",
    "outputId": "55761916-e177-425b-ad01-099282bc1e0f"
   },
   "outputs": [],
   "source": [
    "malstm_model.summary()"
   ]
  },
  {
   "cell_type": "markdown",
   "metadata": {
    "colab_type": "text",
    "id": "Ebi7uXJIu2xd"
   },
   "source": [
    "### Model Compilation"
   ]
  },
  {
   "cell_type": "code",
   "execution_count": null,
   "metadata": {
    "colab": {},
    "colab_type": "code",
    "id": "3Rt74OxCvQAn"
   },
   "outputs": [],
   "source": [
    "malstm_model.compile(loss='mean_squared_error', optimizer=optimizer, metrics=['accuracy'])"
   ]
  },
  {
   "cell_type": "markdown",
   "metadata": {
    "colab_type": "text",
    "id": "9tPjYXg8u3Be"
   },
   "source": [
    "### Model Fit"
   ]
  },
  {
   "cell_type": "code",
   "execution_count": null,
   "metadata": {
    "colab": {},
    "colab_type": "code",
    "id": "QgK_grwK90T-"
   },
   "outputs": [],
   "source": [
    "MODEL_DIR = ''"
   ]
  },
  {
   "cell_type": "code",
   "execution_count": null,
   "metadata": {
    "colab": {},
    "colab_type": "code",
    "id": "CE7QX3mcvk83"
   },
   "outputs": [],
   "source": [
    "# Create a checkpoint\n",
    "filepath = MODEL_DIR + 'malstm_best.hdf5'\n",
    "checkpoint = ModelCheckpoint(filepath, monitor='val_accuracy', verbose=1, save_best_only=True, mode='max')\n",
    "callbacks_list = [checkpoint]"
   ]
  },
  {
   "cell_type": "code",
   "execution_count": null,
   "metadata": {
    "colab": {
     "base_uri": "https://localhost:8080/",
     "height": 156
    },
    "colab_type": "code",
    "executionInfo": {
     "elapsed": 1420328,
     "status": "ok",
     "timestamp": 1591709657180,
     "user": {
      "displayName": "Aniket Fadia",
      "photoUrl": "",
      "userId": "02858654771955807579"
     },
     "user_tz": -330
    },
    "id": "6LJ9nvOMwvNw",
    "outputId": "af1589ed-c563-474f-e2ec-f404a005fc0f"
   },
   "outputs": [],
   "source": [
    "malstm_trained = malstm_model.fit(x=[list(X_train['question1_indices']), list(X_train['question2_indices'])], y=Y_train,\n",
    "                                  batch_size=batch_size, nb_epoch=n_epoch, callbacks=callbacks_list, verbose=2,\n",
    "                                  validation_data=([list(X_val['question1_indices']), list(X_val['question2_indices'])], Y_val))"
   ]
  },
  {
   "cell_type": "markdown",
   "metadata": {
    "colab_type": "text",
    "id": "5X8Y4Wfax1Af"
   },
   "source": [
    "### Save Model"
   ]
  },
  {
   "cell_type": "code",
   "execution_count": null,
   "metadata": {
    "colab": {},
    "colab_type": "code",
    "id": "tD2qqrXjwvCn"
   },
   "outputs": [],
   "source": [
    "# Serialize model to JSON\n",
    "malstm_model_json = malstm_model.to_json()\n",
    "\n",
    "with open(MODEL_DIR + 'malstm_model_json.json', 'w') as json_file:\n",
    "    json_file.write(malstm_model_json)\n",
    "\n",
    "print('Saved MaLSTM model architecture to the disk')"
   ]
  },
  {
   "cell_type": "markdown",
   "metadata": {
    "colab_type": "text",
    "id": "qxyI_V24zGqc"
   },
   "source": [
    "### Load Model"
   ]
  },
  {
   "cell_type": "code",
   "execution_count": null,
   "metadata": {
    "colab": {},
    "colab_type": "code",
    "id": "KBJCc2HHzJ3_"
   },
   "outputs": [],
   "source": [
    "# Load architecture\n",
    "with open(MODEL_DIR + 'malstm_model_json.json', 'r') as json_file:\n",
    "    model_json = json_file.read()\n",
    "\n",
    "malstm_model = model_from_json(model_json)\n",
    "\n",
    "# Load weights\n",
    "malstm_model.load_weights(MODEL_DIR + '')\n",
    "print('Loaded MaLSTM model from the disk')"
   ]
  }
 ],
 "metadata": {
  "accelerator": "TPU",
  "colab": {
   "collapsed_sections": [],
   "name": "MaLSTM.ipynb",
   "provenance": []
  },
  "kernelspec": {
   "display_name": "Python 3",
   "language": "python",
   "name": "python3"
  },
  "language_info": {
   "codemirror_mode": {
    "name": "ipython",
    "version": 3
   },
   "file_extension": ".py",
   "mimetype": "text/x-python",
   "name": "python",
   "nbconvert_exporter": "python",
   "pygments_lexer": "ipython3",
   "version": "3.7.7"
  },
  "toc": {
   "base_numbering": 1,
   "nav_menu": {},
   "number_sections": true,
   "sideBar": true,
   "skip_h1_title": false,
   "title_cell": "Table of Contents",
   "title_sidebar": "Contents",
   "toc_cell": false,
   "toc_position": {},
   "toc_section_display": true,
   "toc_window_display": true
  }
 },
 "nbformat": 4,
 "nbformat_minor": 1
}
